{
  "nbformat": 4,
  "nbformat_minor": 0,
  "metadata": {
    "colab": {
      "name": "Det simple kerne henfald.ipynb",
      "provenance": [],
      "collapsed_sections": [],
      "toc_visible": true,
      "authorship_tag": "ABX9TyODRBOcPv9NWo7krWDA8Q3y",
      "include_colab_link": true
    },
    "kernelspec": {
      "name": "python3",
      "display_name": "Python 3"
    }
  },
  "cells": [
    {
      "cell_type": "markdown",
      "metadata": {
        "id": "view-in-github",
        "colab_type": "text"
      },
      "source": [
        "<a href=\"https://colab.research.google.com/github/TMA040685/Isotop_generator/blob/main/Det_simple_kerne_henfald.ipynb\" target=\"_parent\"><img src=\"https://colab.research.google.com/assets/colab-badge.svg\" alt=\"Open In Colab\"/></a>"
      ]
    },
    {
      "cell_type": "markdown",
      "metadata": {
        "id": "mXDs9TJ5DjzE"
      },
      "source": [
        "# Det simple kerne henfald.\r\n",
        "I denne serie af små øvelser skal vi undersøge hvad der sker inde i isotop-generatoren som findes i fysik samlingen på Skolen. Dette gør vi i denne brugerflade således at vi har mulighed for at programere vores modeller og efterfølgende plotte hvad vi ønsker at se. \r\n",
        "\r\n",
        "\r\n",
        "---\r\n",
        "\r\n",
        "\r\n",
        "Interfaset her består basalt set af en række felter som enten er tekst felter som dette eller er kode felter som lader os skrive program dele i programeringssproget python.\r\n",
        "\r\n",
        "Denne serie består af en række af små øvelser som til sammen vil klæde dig på til at lave en model af en isotop generator.\r\n"
      ]
    },
    {
      "cell_type": "markdown",
      "metadata": {
        "id": "mfcbwX1mGpsn"
      },
      "source": [
        "## Malkekoen - skolens isotopgenerator\r\n",
        "På et hvert gymnasium findes en eller flere malkekøer som anvendes når der skal bestemmes eksempelvis halveringstid for radioaktive isotoper. I kender dem fra den eksperimentelle undervisning. Malkekoen fungere ved ionbytning som beskrevet på siderne 92 - 105 i bogen Hospitalsfysik af *Nyvang, L. et al.*. \r\n",
        "\r\n",
        "Vores malkeko indeholder dog ikke $^{99}\\mathrm{Mo}$ men derimod indeholder vores malkekøer $^{137}\\mathrm{Cs}$ som beskrevet hos forhandleren ([Datablad for isotopgenerator](https://shop.skolebutik.dk/images/pdf/isotop_brugsvejledning_nyt%20logo.pdf)).\r\n",
        "\r\n",
        "---\r\n",
        "\r\n",
        "Derfor vil den første kerne reaktion der forløber inde i isotopgeneratoren være den som danner den metastabile Barium kerne som vi er interesserede i når vi skal lave eksperimenter, fx måling af halveringstiden for radioaktive isotoper.\r\n",
        "\r\n",
        "Vi begynder med at gøre nogle få ting klar, det drejer sig bl.a. om at klargøre pakker m.v. således at vi kan lave vores beregninger.\r\n",
        "\r\n",
        ">Du kan til en hver tid afvikle en kode celle ved at placere dig i cellen og trykke på <code>shift</code> + <code>enter</code>.\r\n"
      ]
    },
    {
      "cell_type": "code",
      "metadata": {
        "id": "F8yshdquDdnE"
      },
      "source": [
        "# Indlæs biblioteket numpy der er særlig godt til at behandle store datamængder\r\n",
        "import numpy as np\r\n",
        "# Indlæs matplotlib til at plotte resultaterne af vores beregninger\r\n",
        "from matplotlib import pyplot as plt\r\n",
        "# Aktiver linjebaseret plot med matplot lib\r\n",
        "%matplotlib inline\r\n",
        "\r\n",
        "# Havelågen angiver at denne linje er en kommentar og den læses ikke af programmet\r\n",
        "# Vi kan altid indlæse flere biblioteker hvis vi skulle få brug for det.\r\n"
      ],
      "execution_count": 1,
      "outputs": []
    },
    {
      "cell_type": "markdown",
      "metadata": {
        "id": "KWFNf1U_MeZP"
      },
      "source": [
        "### Det simple henfald \r\n",
        "I den øvelse vi nu skal lave skal vi se på hvordan kernerne henfalder fra $^{137}\\mathrm{Cs}$ til $^{137}\\mathrm{Ba}^{\\star}$. Her angiver $\\star$ at der er tale om en metastabil tilstand som igen vil henfalde. Henfaldet er via en beta-minus kanal\r\n",
        "\r\n",
        "$$^{137}_{\\phantom{1}55}\\mathrm{Cs} \\rightarrow ^{137}_{\\phantom{1}56}\\mathrm{Ba}^{\\star} + ^{\\phantom{-}0}_{-1}e+\\bar{\\nu}_{e}$$\r\n",
        "\r\n",
        "Vi skal nu slå halveringstiden op for $^{137}_{\\phantom{1}55}\\mathrm{Cs}$ og programmere henfaldet. "
      ]
    },
    {
      "cell_type": "code",
      "metadata": {
        "colab": {
          "base_uri": "https://localhost:8080/"
        },
        "id": "xQ8d8Uk7MRaR",
        "outputId": "6738dc64-09f7-4a7c-bf67-379cfb012d3f"
      },
      "source": [
        "CT12 = 30.17                  # år jf opslag i databogen s. 204\r\n",
        "CT12s = 30.17*365.25*86400    # Halveringtid i sekunder\r\n",
        "print('Halveringtid i sekunder: ', CT12s)"
      ],
      "execution_count": 2,
      "outputs": [
        {
          "output_type": "stream",
          "text": [
            "Halveringtid i sekunder:  952092792.0\n"
          ],
          "name": "stdout"
        }
      ]
    },
    {
      "cell_type": "markdown",
      "metadata": {
        "id": "z9_JgjBNPOSZ"
      },
      "source": [
        "Lad os nu prøve at beregne henfaldskonstanten for det henfald vi her undersøger.\r\n",
        "Her skal vi huske på følgende sammenhæng.\r\n",
        "\r\n",
        "$$ k = \\frac{\\ln(2)}{T_{\\tfrac{1}{2}}} $$\r\n",
        "\r\n",
        "hvor $k$ er henfaldskonstanen mens $T_{\\tfrac{1}{2}}$ er halveringstiden i sekunder."
      ]
    },
    {
      "cell_type": "code",
      "metadata": {
        "colab": {
          "base_uri": "https://localhost:8080/"
        },
        "id": "mvVAQqe2PIkE",
        "outputId": "06e7e583-d1fe-47b2-da10-fe5e90c5c186"
      },
      "source": [
        "kC = np.log(2)/CT12s            # i numpy kan ln beregnes som log mens den almindelige log() kaldes som log10()\r\n",
        "print('Henfaldskonstanten k= ', kC, '1/s')"
      ],
      "execution_count": 3,
      "outputs": [
        {
          "output_type": "stream",
          "text": [
            "Henfaldskonstanten k=  7.280248168919498e-10 1/s\n"
          ],
          "name": "stdout"
        }
      ]
    },
    {
      "cell_type": "markdown",
      "metadata": {
        "id": "SYF72jcDQgF7"
      },
      "source": [
        "### At skabe en model\r\n",
        "Når vi skal lave vores model skal vi have to forskellige lister. En hvor vi kan holde styr på moder-kernerne og en hvor vi kan holde styr på datter-kernerne. Samtidig skal vi definere en tidsvektor som indeholder de tidsskridt vi ønsker os at foretage vores beregning for. \r\n",
        "\r\n",
        ">I dette eksempel vil vi bruge <mark>linspace</mark> som laver en liste som indeholder et defineret antal punkter med den samme afstand mellem vores samples. \r\n"
      ]
    },
    {
      "cell_type": "code",
      "metadata": {
        "colab": {
          "base_uri": "https://localhost:8080/"
        },
        "id": "1OjS8-nUQcWW",
        "outputId": "387d1f0b-a979-4667-c372-eb17d5058e39"
      },
      "source": [
        "Mk = np.linspace(0,3E10, 1000)     # Liste til vores moder-kerner\r\n",
        "Dk = np.linspace(0,3E10, 1000)     # Liste til vores datter-kerner\r\n",
        "t = np.linspace(0,3E7, 1000)      # vores tidsvektor\r\n",
        "Nks = 100                         # Vores oprindelige andel i %\r\n",
        "\r\n",
        "Mk[0] = Nks                       # Sæt vores begyndelsesværdi for moderkernerne til vores start andel.\r\n",
        "\r\n",
        "# Nu laver vi beregningen for hvor mange kerner der er tilbage efter første tidsskridt.\r\n",
        "N2 = Nks * np.exp(-kC*t[1])\r\n",
        "print('Antallet af kerner tilbage efter første tidsskridt: ', N2, '%')"
      ],
      "execution_count": 19,
      "outputs": [
        {
          "output_type": "stream",
          "text": [
            "Antallet af kerner tilbage efter første tidsskridt:  99.99781376318711 %\n"
          ],
          "name": "stdout"
        }
      ]
    },
    {
      "cell_type": "markdown",
      "metadata": {
        "id": "306qEqjqS4Wk"
      },
      "source": [
        "Lad os nu prøve at gøre dette for alle vores tidsskridt. Dette gøres med en løkke. Vi vil anvende en for-løkke til at løse dette problem for-løkken aktiveres på følgende vis. \r\n",
        "```Python\r\n",
        "for i in range(0, 1000):\r\n",
        "  x[i] = 1/(2*t[i])\r\n",
        "```\r\n",
        "I denne kode ser vi at vi anvender en for-løkke og at vi bruger *variablen* **i** til at holde styr på hvor langt vi er i løkken. Vi kan også se at **i** kan varieres mellem 0 og 1000 i argumentet *range(0,1000)*.\r\n",
        "Herefter skal du på næste linje huske at lave en indentering hvilket programmet burde gøre af sig selv. Her skriver du så indholdet af løkken. Først når du komme ud til den venstre margen igen vil du være ude af løkken. I denne løkke beregnes den *i'te* position i liste *x* som 1 delt med (2* den *i'te* position i liste *t*).\r\n",
        "med andre ord.\r\n",
        "\r\n",
        "$$ x_i = \\frac{1}{2\\cdot t_i}$$\r\n",
        "\r\n",
        "lad os nu prøve at regne ud hvordan udviklingen af moder-kerner vil se ud over tid."
      ]
    },
    {
      "cell_type": "code",
      "metadata": {
        "id": "sojsqsZHSms8"
      },
      "source": [
        "from math import exp\r\n",
        "for i in range(1,1000):\r\n",
        "   Mk[i] = Mk[i-1]*exp(-kC*t[i])\r\n"
      ],
      "execution_count": 29,
      "outputs": []
    },
    {
      "cell_type": "markdown",
      "metadata": {
        "id": "bQmEiDfqVfCs"
      },
      "source": [
        "### lav en graf\r\n",
        "Nu har du lavet beregningen for udviklingen af moder-kerner men passer det med virkeligheden lad os se ved at lave en figur."
      ]
    },
    {
      "cell_type": "code",
      "metadata": {
        "colab": {
          "base_uri": "https://localhost:8080/",
          "height": 302
        },
        "id": "Z1S_Zx-wVcN-",
        "outputId": "21dc3c10-f36c-4fc1-fc0c-4a9f8069606e"
      },
      "source": [
        "plt.figure(figsize=(12,4))                                      # Start en figur som er 12 enheder lang og 4 enheder høj\r\n",
        "plt.plot(t/(365.25*86400),Mk,'b-',label='moderkerner')          # Plot vores beregninger med en blå linje og navngiv den moderkerner\r\n",
        "plt.xlabel('Tid, $t$ (år)', fontsize=12)                        # Sæt x-aksetitlen med skriftstørrelse 12\r\n",
        "plt.ylabel('Andel af kerner, $N$ (%)', fontsize=12)             # Sæt y-aksetitlen med skriftstørrelse 12\r\n",
        "plt.legend()                                                    # Skriv en boks på figuren med signaturer \r\n",
        "plt.xlim([0,1])                                                 # Sæt grænser på x-aksen\r\n"
      ],
      "execution_count": 30,
      "outputs": [
        {
          "output_type": "execute_result",
          "data": {
            "text/plain": [
              "(0.0, 1.0)"
            ]
          },
          "metadata": {
            "tags": []
          },
          "execution_count": 30
        },
        {
          "output_type": "display_data",
          "data": {
            "image/png": "[encoded data removed]",
            "text/plain": [
              "<Figure size 864x288 with 1 Axes>"
            ]
          },
          "metadata": {
            "tags": [],
            "needs_background": "light"
          }
        }
      ]
    },
    {
      "cell_type": "markdown",
      "metadata": {
        "id": "93VFJLk-Y5Yj"
      },
      "source": [
        "### Tilføj nu udviklingen af den metastabile dattterkerne\r\n",
        "Det er klart at når en kerne henfalder bliver den til en datter kerne. Vi  vil nu forsøge at inkorporere dette i vores model."
      ]
    },
    {
      "cell_type": "code",
      "metadata": {
        "colab": {
          "base_uri": "https://localhost:8080/",
          "height": 302
        },
        "id": "AGuaWrIrV1Oz",
        "outputId": "86b08198-86d9-48a3-9eae-fa35f9a38d16"
      },
      "source": [
        "for i in range(1,1000):\r\n",
        "  Dk[i] = Dk[i-1]+(Mk[i-1]-Mk[i])\r\n",
        "  \r\n",
        "\r\n",
        "plt.figure(figsize=(12,4))                                      \r\n",
        "plt.plot(t/(365.25*86400),Mk,'b-',label='Moder')          \r\n",
        "plt.plot(t/(365.25*86400),Dk,'r-',label='Datter')\r\n",
        "plt.xlabel('Tid, $t$ (år)', fontsize=12)                        \r\n",
        "plt.ylabel('Andel af kerner, $N$ (%)', fontsize=12)             \r\n",
        "plt.legend()                                                    \r\n",
        "plt.xlim([0,1])"
      ],
      "execution_count": 40,
      "outputs": [
        {
          "output_type": "execute_result",
          "data": {
            "text/plain": [
              "(0.0, 1.0)"
            ]
          },
          "metadata": {
            "tags": []
          },
          "execution_count": 40
        },
        {
          "output_type": "display_data",
          "data": {
            "image/png": "[encoded data removed]",
            "text/plain": [
              "<Figure size 864x288 with 1 Axes>"
            ]
          },
          "metadata": {
            "tags": [],
            "needs_background": "light"
          }
        }
      ]
    },
    {
      "cell_type": "markdown",
      "metadata": {
        "id": "sBDG0UXWbIWQ"
      },
      "source": [
        "### Datter kernen er kun meta-stabil\r\n",
        "Derfor skal vi nu kompencere for dette og derved nå i mål. med en figur som viser udviklingen af kerner over tid. \r\n"
      ]
    },
    {
      "cell_type": "code",
      "metadata": {
        "id": "HPxoBvjdZq1n"
      },
      "source": [
        ""
      ],
      "execution_count": null,
      "outputs": []
    }
  ]
}